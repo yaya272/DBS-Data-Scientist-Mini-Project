{
 "cells": [
  {
   "cell_type": "code",
   "execution_count": 37,
   "id": "a29b2e0c",
   "metadata": {},
   "outputs": [
    {
     "name": "stdout",
     "output_type": "stream",
     "text": [
      "Collecting compress_fasttext\n",
      "  Downloading compress-fasttext-0.0.7.tar.gz (9.5 kB)\n",
      "  Preparing metadata (setup.py) ... \u001b[?25ldone\n",
      "\u001b[?25hCollecting gensim<=3.8.3\n",
      "  Downloading gensim-3.8.3-cp37-cp37m-macosx_10_9_x86_64.whl (24.2 MB)\n",
      "     |████████████████████████████████| 24.2 MB 8.9 MB/s            \n",
      "\u001b[?25hRequirement already satisfied: numpy in /Users/yassinefakhreddine/Documents/DBS_Assigment/dbs-venv/lib/python3.7/site-packages (from compress_fasttext) (1.19.5)\n",
      "Requirement already satisfied: scipy>=0.18.1 in /Users/yassinefakhreddine/Documents/DBS_Assigment/dbs-venv/lib/python3.7/site-packages (from gensim<=3.8.3->compress_fasttext) (1.7.1)\n",
      "Requirement already satisfied: smart-open>=1.8.1 in /Users/yassinefakhreddine/Documents/DBS_Assigment/dbs-venv/lib/python3.7/site-packages (from gensim<=3.8.3->compress_fasttext) (5.2.1)\n",
      "Requirement already satisfied: six>=1.5.0 in /Users/yassinefakhreddine/Documents/DBS_Assigment/dbs-venv/lib/python3.7/site-packages (from gensim<=3.8.3->compress_fasttext) (1.15.0)\n",
      "Building wheels for collected packages: compress-fasttext\n",
      "  Building wheel for compress-fasttext (setup.py) ... \u001b[?25ldone\n",
      "\u001b[?25h  Created wheel for compress-fasttext: filename=compress_fasttext-0.0.7-py3-none-any.whl size=11078 sha256=ab28be9bbe1182d81b8684d12f89445e9f743795bb88660eb51c4be0ac0dca3f\n",
      "  Stored in directory: /Users/yassinefakhreddine/Library/Caches/pip/wheels/fa/cf/43/579ed0c5dc7f41928de0cbd42d06c0ffbd8731d48ba0ac2587\n",
      "Successfully built compress-fasttext\n",
      "Installing collected packages: gensim, compress-fasttext\n",
      "  Attempting uninstall: gensim\n",
      "    Found existing installation: gensim 4.1.2\n",
      "    Uninstalling gensim-4.1.2:\n",
      "      Successfully uninstalled gensim-4.1.2\n",
      "Successfully installed compress-fasttext-0.0.7 gensim-3.8.3\n"
     ]
    }
   ],
   "source": [
    "!pip install compress_fasttext"
   ]
  },
  {
   "cell_type": "code",
   "execution_count": 38,
   "id": "f6b5beb8",
   "metadata": {},
   "outputs": [],
   "source": [
    "import pandas as pd\n",
    "import numpy as np\n",
    "\n",
    "from sklearn.preprocessing import LabelEncoder, StandardScaler, OneHotEncoder, FunctionTransformer\n",
    "from sklearn.pipeline import Pipeline\n",
    "from sklearn.compose import ColumnTransformer\n",
    "from sklearn.impute import SimpleImputer\n",
    "from sklearn.model_selection import train_test_split\n",
    "\n",
    "from sklearn.metrics import accuracy_score, cohen_kappa_score, ConfusionMatrixDisplay\n",
    "from sklearn.feature_extraction.text import TfidfVectorizer\n",
    "from sklearn.ensemble import VotingClassifier\n",
    "\n",
    "import xgboost as xgb\n",
    "import lightgbm as lgb\n",
    "\n",
    "import optuna\n",
    "from optuna import Trial\n",
    "from tqdm.notebook import tqdm\n",
    "\n",
    "from gensim.models.fasttext import load_facebook_model\n",
    "import compress_fasttext\n",
    "import fasttext\n",
    "import fasttext.util"
   ]
  },
  {
   "cell_type": "code",
   "execution_count": 41,
   "id": "8a9322ca",
   "metadata": {},
   "outputs": [],
   "source": [
    "stops = {'i', 'me', 'my', 'myself', 'we', 'our', 'ours', 'ourselves', 'you', \"you're\", \"you've\", \"you'll\", \"you'd\",\n",
    "         'your', 'yours', 'yourself', 'yourselves', 'he', 'him', 'his', 'himself', 'she', \"she's\", 'her', 'hers',\n",
    "         'herself', 'it', \"it's\", 'its', 'itself', 'they', 'them', 'their', 'theirs', 'themselves', 'what', 'which',\n",
    "         'who', 'whom', 'this', 'that', \"that'll\", 'these', 'those', 'am', 'is', 'are', 'was', 'were', 'be', 'been',\n",
    "         'being', 'have', 'has', 'had', 'having', 'do', 'does', 'did', 'doing', 'a', 'an', 'the', 'and', 'but', 'if',\n",
    "         'or', 'because', 'as', 'until', 'while', 'of', 'at', 'by', 'for', 'with', 'about', 'against', 'between',\n",
    "         'into', 'through', 'during', 'before', 'after', 'above', 'below', 'to', 'from', 'up', 'down', 'in', 'out',\n",
    "         'on', 'off', 'over', 'under', 'again', 'further', 'then', 'once', 'here', 'there', 'when', 'where', 'why',\n",
    "         'how', 'all', 'any', 'both', 'each', 'few', 'more', 'most', 'other', 'some', 'such', 'no', 'nor', 'not',\n",
    "         'only', 'own', 'same', 'so', 'than', 'too', 'very', 's', 't', 'can', 'will', 'just', 'don', \"don't\", 'should',\n",
    "         \"should've\", 'now', 'd', 'll', 'm', 'o', 're', 've', 'y', 'ain', 'aren', \"aren't\", 'couldn', \"couldn't\",\n",
    "         'didn', \"didn't\", 'doesn', \"doesn't\", 'hadn', \"hadn't\", 'hasn', \"hasn't\", 'haven', \"haven't\", 'isn', \"isn't\",\n",
    "         'ma', 'mightn', \"mightn't\", 'mustn', \"mustn't\", 'needn', \"needn't\", 'shan', \"shan't\", 'shouldn', \"shouldn't\",\n",
    "         'wasn', \"wasn't\", 'weren', \"weren't\", 'won', \"won't\", 'wouldn', \"wouldn't\"}"
   ]
  },
  {
   "cell_type": "code",
   "execution_count": 42,
   "id": "6689fdf3",
   "metadata": {},
   "outputs": [],
   "source": [
    "data =  pd.read_csv(\"../../DBS Data Scientist Mini Project/data/features.csv\")\n",
    "labels = pd.read_csv(\"../../DBS Data Scientist Mini Project/data//labels.csv\")\n",
    "\n",
    "# Reorder labels to match data order\n",
    "data = pd.merge(data,labels)\n",
    "labels = data[\"genre\"]\n",
    "data.drop(columns=[\"genre\"], inplace=True)\n",
    "\n",
    "n_classes = labels.unique().shape[0]"
   ]
  },
  {
   "cell_type": "code",
   "execution_count": 43,
   "id": "69908334",
   "metadata": {},
   "outputs": [],
   "source": [
    "unused_features = [\"trackID\"]\n",
    "tag_feature = [\"tags\"]\n",
    "title_feature = [\"title\"]\n",
    "categorical_features = [\"key\", \"mode\"]\n",
    "numerical_features = data.columns[~data.columns.isin(categorical_features + tag_feature + \n",
    "                                                     unused_features+title_feature)]"
   ]
  },
  {
   "cell_type": "markdown",
   "id": "9183a789",
   "metadata": {},
   "source": [
    "# Preprocessing"
   ]
  },
  {
   "cell_type": "markdown",
   "id": "bd08d45f",
   "metadata": {},
   "source": [
    "TODO: <br>\n",
    " - Drop Unused Columns \n",
    " - Impute/Drop Missing Values\n",
    " - Tags Embeding \n",
    "     - FastText good result but model too large, using compress technique big loss on the model performance\n",
    "     - Doc2Vec not good \n",
    "     - Bag of words & Tf-Idf not good enough \n",
    " - Scale Numerical Value\n",
    " - PCA \n",
    "     - After Few tries it reduces the performance of the model \n",
    " - One Hot Encoding "
   ]
  },
  {
   "cell_type": "code",
   "execution_count": null,
   "id": "22ca43fc",
   "metadata": {},
   "outputs": [],
   "source": [
    "ft_model = compress_fasttext.models.CompressedFastTextKeyedVectors.load(\"mini_cc.en.300.bin\")"
   ]
  },
  {
   "cell_type": "code",
   "execution_count": 44,
   "id": "29a1662d",
   "metadata": {},
   "outputs": [],
   "source": [
    "data[\"tags\"] = data[\"tags\"].str.replace(\",\", \"\")"
   ]
  },
  {
   "cell_type": "code",
   "execution_count": 45,
   "id": "d611376b",
   "metadata": {},
   "outputs": [],
   "source": [
    "def remove_stops(X):\n",
    "    return [\" \".join([word for word in s.split() if word not in stops]) for s in X]"
   ]
  },
  {
   "cell_type": "code",
   "execution_count": 46,
   "id": "fc084a45",
   "metadata": {},
   "outputs": [],
   "source": [
    "text_pipeline = Pipeline([ \n",
    "    (\"imputer\", SimpleImputer(strategy=\"constant\", fill_value=\"\",)),\n",
    "    (\"reshape\", FunctionTransformer(np.reshape, kw_args={\"newshape\":-1})),\n",
    "    (\"tfids\", TfidfVectorizer())\n",
    "    #(\"fasttext\", FunctionTransformer(lambda x: pd.DataFrame([g_ft.wv.get_vector(s) for s in tqdm(x)])))\n",
    "])"
   ]
  },
  {
   "cell_type": "code",
   "execution_count": 47,
   "id": "945b5611",
   "metadata": {},
   "outputs": [],
   "source": [
    "numerical_pipeline = Pipeline([ \n",
    "    (\"imputer\", SimpleImputer(strategy=\"mean\")),\n",
    "    (\"std_scaler\", StandardScaler())\n",
    "])"
   ]
  },
  {
   "cell_type": "code",
   "execution_count": 48,
   "id": "994b108f",
   "metadata": {},
   "outputs": [],
   "source": [
    "categorical_pipeline = Pipeline([ \n",
    "    (\"imputer\", SimpleImputer(strategy=\"most_frequent\")),\n",
    "    (\"one_hot\", OneHotEncoder())\n",
    "])"
   ]
  },
  {
   "cell_type": "code",
   "execution_count": 49,
   "id": "1b388202",
   "metadata": {},
   "outputs": [],
   "source": [
    "preprocessing_pipeline = ColumnTransformer([\n",
    "    (\"numerical\", numerical_pipeline, numerical_features),\n",
    "    (\"categorical\", categorical_pipeline, categorical_features),\n",
    "    (\"tags\", text_pipeline, tag_feature),\n",
    "    (\"titles\", text_pipeline, title_feature)\n",
    "])"
   ]
  },
  {
   "cell_type": "markdown",
   "id": "76d6abca",
   "metadata": {},
   "source": [
    "# Training"
   ]
  },
  {
   "cell_type": "code",
   "execution_count": 50,
   "id": "241eb6b5",
   "metadata": {},
   "outputs": [],
   "source": [
    "def compute_metrics(y_true, y_pred):\n",
    "    print(f\"acc: {accuracy_score(y_true, y_pred)}\")\n",
    "    print(f\"kappa: {cohen_kappa_score(y_pred, y_true)}\")\n",
    "          \n",
    "    ConfusionMatrixDisplay.from_predictions(y_pred, y_val, \n",
    "                          display_labels=label_encoder.classes_, xticks_rotation=\"vertical\")"
   ]
  },
  {
   "cell_type": "code",
   "execution_count": 51,
   "id": "cadf43d3",
   "metadata": {},
   "outputs": [],
   "source": [
    "def study_report(study):\n",
    "    print(\"Number of finished trials: \", len(study.trials))\n",
    "    print(\"Best trial:\")\n",
    "    trial = study.best_trial\n",
    "\n",
    "    print(\"  Value: {}\".format(trial.value))\n",
    "    print(\"  Params: \")\n",
    "    for key, value in trial.params.items():\n",
    "        print(\"    {}: {}\".format(key, value))"
   ]
  },
  {
   "cell_type": "code",
   "execution_count": 23,
   "id": "652bb979",
   "metadata": {},
   "outputs": [],
   "source": [
    "X_train, X_test, y_train, y_test = train_test_split(data, labels,\n",
    "                                                    stratify=labels.values.reshape(-1,1),\n",
    "                                                    test_size=0.15, shuffle=True, random_state=42)\n",
    "label_encoder = LabelEncoder()\n",
    "y_train = label_encoder.fit_transform(y_train)\n",
    "y_test = label_encoder.transform(y_test)\n",
    "\n",
    "X_train, X_val, y_train, y_val = train_test_split(X_train, y_train,\n",
    "                                                    stratify=y_train,\n",
    "                                                    test_size=0.15, shuffle=True, random_state=42)"
   ]
  },
  {
   "cell_type": "code",
   "execution_count": 24,
   "id": "23b29d65",
   "metadata": {},
   "outputs": [],
   "source": [
    "X_train = preprocessing_pipeline.fit_transform(X_train)\n",
    "X_val = preprocessing_pipeline.transform(X_val)\n",
    "X_test = preprocessing_pipeline.transform(X_test)"
   ]
  },
  {
   "cell_type": "code",
   "execution_count": 25,
   "id": "92353fb2",
   "metadata": {},
   "outputs": [
    {
     "data": {
      "text/plain": [
       "((5871, 10300), (5871,))"
      ]
     },
     "execution_count": 25,
     "metadata": {},
     "output_type": "execute_result"
    }
   ],
   "source": [
    "X_train.shape, y_train.shape"
   ]
  },
  {
   "cell_type": "markdown",
   "id": "283a6d45",
   "metadata": {},
   "source": [
    "### XGB"
   ]
  },
  {
   "cell_type": "code",
   "execution_count": 15,
   "id": "4bda3c56",
   "metadata": {},
   "outputs": [],
   "source": [
    "def objective(trial, dtrain, evals, params):\n",
    "    \n",
    "    params[\"eta\"] = trial.suggest_float(\"eta\", 1e-8, 1.0, log=True)\n",
    "    params[\"max_depth\"] = trial.suggest_int(\"max_depth\", 1, 9)\n",
    "    params[\"min_child_weight\"] = trial.suggest_int(\"min_child_weight\", 2, 10)\n",
    "    params[\"subsample\"] = trial.suggest_float(\"subsample\", 0.2, 1.0)\n",
    "    params[\"colsample_bytree\"] = trial.suggest_float(\"colsample_bytree\", 0.2, 1.0)\n",
    "    params[\"lambda\"] = trial.suggest_float(\"lambda\", 1e-8, 1.0, log=True)\n",
    "    params[\"alpha\"] = trial.suggest_float(\"alpha\", 1e-8, 1.0, log=True)\n",
    "    params[\"gamma\"] = trial.suggest_float(\"gamma\", 1e-8, 1.0, log=True)\n",
    "\n",
    "    xgb_model = xgb.train(\n",
    "        params=params,\n",
    "        dtrain=dtrain,\n",
    "        evals=evals,\n",
    "        num_boost_round=2500,\n",
    "        early_stopping_rounds=20,\n",
    "        verbose_eval=100\n",
    "    )    \n",
    "    # xgb_model.best_score --> log loss\n",
    "    y_pred = xgb_model.predict(dval).argmax(axis=1)\n",
    "    return cohen_kappa_score(y_pred, y_v)"
   ]
  },
  {
   "cell_type": "code",
   "execution_count": 16,
   "id": "b54f0441",
   "metadata": {},
   "outputs": [],
   "source": [
    "params = {\n",
    "    \"verbosity\": 0,\n",
    "    \"objective\": \"multi:softprob\",\n",
    "    \"eval_metric\": \"mlogloss\",\n",
    "    \"num_class\": n_classes\n",
    "}"
   ]
  },
  {
   "cell_type": "code",
   "execution_count": null,
   "id": "517139af",
   "metadata": {},
   "outputs": [],
   "source": [
    "dtrain = xgb.DMatrix(X_train, label=y_train)\n",
    "dval = xgb.DMatrix(X_val, label=y_val)\n",
    "\n",
    "deval = [(dval, 'eval')] "
   ]
  },
  {
   "cell_type": "code",
   "execution_count": null,
   "id": "7a110bf2",
   "metadata": {},
   "outputs": [],
   "source": [
    "xgb_study = optuna.create_study(direction=\"minimize\")\n",
    "study.optimize(lambda trial: objective(trial, dtrain, deval, params), n_trials=20, timeout=600)"
   ]
  },
  {
   "cell_type": "code",
   "execution_count": null,
   "id": "6f7b6f30",
   "metadata": {},
   "outputs": [],
   "source": [
    "study_report(xgb_study)"
   ]
  },
  {
   "cell_type": "code",
   "execution_count": null,
   "id": "dc78c514",
   "metadata": {},
   "outputs": [],
   "source": [
    "xgb_model = xgb.train(\n",
    "    params={**params,**trial.params},\n",
    "    dtrain=dtrain,\n",
    "    evals=deval,\n",
    "    num_boost_round=2500,\n",
    "    early_stopping_rounds=50,\n",
    "    verbose_eval=50\n",
    ") "
   ]
  },
  {
   "cell_type": "code",
   "execution_count": null,
   "id": "c67a48d9",
   "metadata": {},
   "outputs": [],
   "source": [
    "y_pred = xgb_model.predict(dval).argmax(axis=1)\n",
    "compute_metrics(y_pred, y_val)"
   ]
  },
  {
   "cell_type": "markdown",
   "id": "2e1704e2",
   "metadata": {},
   "source": [
    "### LGB"
   ]
  },
  {
   "cell_type": "code",
   "execution_count": 52,
   "id": "51725851",
   "metadata": {},
   "outputs": [],
   "source": [
    "def lgb_objective(trial, dtrain, dval, params):    \n",
    "    param = {**params,\n",
    "        \"lambda_l1\": trial.suggest_float(\"lambda_l1\", 1e-8, 10.0, log=True),\n",
    "        \"lambda_l2\": trial.suggest_float(\"lambda_l2\", 1e-8, 10.0, log=True),\n",
    "        \"num_leaves\": trial.suggest_int(\"num_leaves\", 2, 256),\n",
    "        \"feature_fraction\": trial.suggest_float(\"feature_fraction\", 0.4, 1.0),\n",
    "        \"bagging_fraction\": trial.suggest_float(\"bagging_fraction\", 0.4, 1.0),\n",
    "        \"bagging_freq\": trial.suggest_int(\"bagging_freq\", 1, 7),\n",
    "        \"min_child_samples\": trial.suggest_int(\"min_child_samples\", 5, 100),\n",
    "    }\n",
    "    \n",
    "    lgb_model = lgb.train(param, dtrain, valid_sets=[dval], num_boost_round=1000,\n",
    "                    callbacks=[lgb.log_evaluation(50), lgb.early_stopping(25)]\n",
    "               )\n",
    "\n",
    "    return lgb_model.best_score[\"valid_0\"][\"multi_logloss\"]"
   ]
  },
  {
   "cell_type": "code",
   "execution_count": 56,
   "id": "3a8aa50d",
   "metadata": {},
   "outputs": [],
   "source": [
    "params = {\n",
    "    \"objective\": \"multiclass\",\n",
    "    \"metric\": \"multi_logloss\",\n",
    "    \"verbosity\": -1,\n",
    "    \"boosting_type\": \"gbdt\",\n",
    "    \"feature_pre_filter\": False,\n",
    "    #\"device\" : \"gpu\",\n",
    "    \"num_class\": n_classes\n",
    "}"
   ]
  },
  {
   "cell_type": "code",
   "execution_count": 57,
   "id": "2c5d7d0d",
   "metadata": {},
   "outputs": [],
   "source": [
    "dtrain = lgb.Dataset(X_train,y_train)\n",
    "dval = lgb.Dataset(X_val, y_val)"
   ]
  },
  {
   "cell_type": "code",
   "execution_count": null,
   "id": "c1087822",
   "metadata": {},
   "outputs": [
    {
     "name": "stderr",
     "output_type": "stream",
     "text": [
      "\u001b[32m[I 2021-10-29 08:22:31,460]\u001b[0m A new study created in memory with name: no-name-62f7de4d-abef-4c10-9668-7680c3e33e10\u001b[0m\n"
     ]
    },
    {
     "name": "stdout",
     "output_type": "stream",
     "text": [
      "Training until validation scores don't improve for 25 rounds\n",
      "[50]\tvalid_0's multi_logloss: 0.917397\n"
     ]
    }
   ],
   "source": [
    "study = optuna.create_study(direction=\"minimize\")\n",
    "study.optimize(lambda trial: lgb_objective(trial, dtrain, dval, params), n_trials=20, timeout=600)"
   ]
  },
  {
   "cell_type": "code",
   "execution_count": 77,
   "id": "2b81139f",
   "metadata": {},
   "outputs": [
    {
     "name": "stdout",
     "output_type": "stream",
     "text": [
      "Number of finished trials:  100\n",
      "Best trial:\n",
      "  Value: 0.8591642720058137\n",
      "  Params: \n",
      "    lambda_l1: 0.09686860149587874\n",
      "    lambda_l2: 2.317278758305513\n",
      "    num_leaves: 97\n",
      "    feature_fraction: 0.7408758758129015\n",
      "    bagging_fraction: 0.6861197195062518\n",
      "    bagging_freq: 7\n",
      "    min_child_samples: 78\n"
     ]
    }
   ],
   "source": [
    "study_report(study)"
   ]
  },
  {
   "cell_type": "markdown",
   "id": "d5e07a42",
   "metadata": {},
   "source": [
    "```json\n",
    "{\n",
    " 'lambda_l1': 0.09686860149587874,\n",
    " 'lambda_l2': 2.317278758305513,\n",
    " 'num_leaves': 97,\n",
    " 'feature_fraction': 0.7408758758129015,\n",
    " 'bagging_fraction': 0.6861197195062518,\n",
    " 'bagging_freq': 7,\n",
    " 'min_child_samples': 78\n",
    " }\n",
    "```"
   ]
  },
  {
   "cell_type": "code",
   "execution_count": 80,
   "id": "02a569b1",
   "metadata": {},
   "outputs": [
    {
     "name": "stdout",
     "output_type": "stream",
     "text": [
      "Training until validation scores don't improve for 50 rounds\n",
      "[50]\tvalid_0's multi_logloss: 0.913926\n",
      "[100]\tvalid_0's multi_logloss: 0.86879\n",
      "[150]\tvalid_0's multi_logloss: 0.869252\n",
      "Early stopping, best iteration is:\n",
      "[111]\tvalid_0's multi_logloss: 0.864397\n"
     ]
    }
   ],
   "source": [
    "lgb_model = lgb.train({**params, **study.best_params}, dtrain, valid_sets=[dval], num_boost_round=1000,\n",
    "                      callbacks=[lgb.log_evaluation(50), lgb.early_stopping(50)])"
   ]
  },
  {
   "cell_type": "code",
   "execution_count": 81,
   "id": "f30fb66e",
   "metadata": {},
   "outputs": [],
   "source": [
    "y_pred = lgb_model.predict(X_val).argmax(axis=1)"
   ]
  },
  {
   "cell_type": "code",
   "execution_count": 82,
   "id": "3fab32dc",
   "metadata": {},
   "outputs": [
    {
     "name": "stdout",
     "output_type": "stream",
     "text": [
      "acc: 0.6972034715525555\n",
      "kappa: 0.6397461102807191\n"
     ]
    },
    {
     "data": {
      "image/png": "[encoded data removed]",
      "text/plain": [
       "<Figure size 432x288 with 2 Axes>"
      ]
     },
     "metadata": {
      "needs_background": "light"
     },
     "output_type": "display_data"
    }
   ],
   "source": [
    "compute_metrics(y_val, y_pred)"
   ]
  },
  {
   "cell_type": "markdown",
   "id": "6bcd28ed",
   "metadata": {},
   "source": [
    "# Full Pipeline Training"
   ]
  },
  {
   "cell_type": "markdown",
   "id": "99ed00c6",
   "metadata": {},
   "source": [
    "```json\n",
    "{'objective': 'multiclass',\n",
    " 'metric': 'multi_logloss',\n",
    " 'verbosity': -1,\n",
    " 'boosting_type': 'gbdt',\n",
    " 'feature_pre_filter': False,\n",
    " 'device': 'gpu',\n",
    " 'num_class': 8,\n",
    " 'lambda_l1': 0.09686860149587874,\n",
    " 'lambda_l2': 2.317278758305513,\n",
    " 'num_leaves': 97,\n",
    " 'feature_fraction': 0.7408758758129015,\n",
    " 'bagging_fraction': 0.6861197195062518,\n",
    " 'bagging_freq': 7,\n",
    " 'min_child_samples': 78}\n",
    "```"
   ]
  },
  {
   "cell_type": "code",
   "execution_count": 26,
   "id": "b01b0bb0",
   "metadata": {},
   "outputs": [],
   "source": [
    "X = preprocessing_pipeline.fit_transform(data)\n",
    "y = label_encoder.transform(labels) "
   ]
  },
  {
   "cell_type": "code",
   "execution_count": 91,
   "id": "82c5687d",
   "metadata": {},
   "outputs": [],
   "source": [
    "d_Train = lgb.Dataset(X,y)"
   ]
  },
  {
   "cell_type": "code",
   "execution_count": 92,
   "id": "e925b9ef",
   "metadata": {},
   "outputs": [],
   "source": [
    "best_params = {'objective': 'multiclass',\n",
    " 'metric': 'multi_logloss',\n",
    " 'verbosity': -1,\n",
    " 'boosting_type': 'gbdt',\n",
    " 'feature_pre_filter': False,\n",
    " 'num_class': 8,\n",
    " 'lambda_l1': 0.09686860149587874,\n",
    " 'lambda_l2': 2.317278758305513,\n",
    " 'num_leaves': 97,\n",
    " 'feature_fraction': 0.7408758758129015,\n",
    " 'bagging_fraction': 0.6861197195062518,\n",
    " 'bagging_freq': 7,\n",
    " 'min_child_samples': 78}"
   ]
  },
  {
   "cell_type": "code",
   "execution_count": 93,
   "id": "64b71108",
   "metadata": {},
   "outputs": [],
   "source": [
    "final_model = lgb.train(best_params, d_Train, num_boost_round=lgb_model.best_iteration)"
   ]
  },
  {
   "cell_type": "markdown",
   "id": "8b384293",
   "metadata": {},
   "source": [
    "# Export Preprocess-Pipeline Model & Label Encoder"
   ]
  },
  {
   "cell_type": "code",
   "execution_count": 28,
   "id": "ac5903da",
   "metadata": {},
   "outputs": [],
   "source": [
    "import joblib"
   ]
  },
  {
   "cell_type": "code",
   "execution_count": 98,
   "id": "37e6601b",
   "metadata": {},
   "outputs": [
    {
     "data": {
      "text/plain": [
       "['label_encoder.bin']"
      ]
     },
     "execution_count": 98,
     "metadata": {},
     "output_type": "execute_result"
    }
   ],
   "source": [
    "joblib.dump(label_encoder, \"label_encoder.bin\")"
   ]
  },
  {
   "cell_type": "code",
   "execution_count": 29,
   "id": "a849d9b0",
   "metadata": {},
   "outputs": [
    {
     "data": {
      "text/plain": [
       "['preprocessing_pipeline.bin']"
      ]
     },
     "execution_count": 29,
     "metadata": {},
     "output_type": "execute_result"
    }
   ],
   "source": [
    "joblib.dump(preprocessing_pipeline, \"preprocessing_pipeline.bin\")"
   ]
  },
  {
   "cell_type": "code",
   "execution_count": 100,
   "id": "e3d0bc0f",
   "metadata": {},
   "outputs": [
    {
     "data": {
      "text/plain": [
       "['lgb_model.bin']"
      ]
     },
     "execution_count": 100,
     "metadata": {},
     "output_type": "execute_result"
    }
   ],
   "source": [
    "joblib.dump(lgb_model, \"lgb_model.bin\")"
   ]
  },
  {
   "cell_type": "code",
   "execution_count": 101,
   "id": "48fef9ff",
   "metadata": {},
   "outputs": [
    {
     "data": {
      "text/plain": [
       "['final_model.bin']"
      ]
     },
     "execution_count": 101,
     "metadata": {},
     "output_type": "execute_result"
    }
   ],
   "source": [
    "joblib.dump(final_model, \"final_model.bin\")"
   ]
  },
  {
   "cell_type": "code",
   "execution_count": null,
   "id": "c69ad882",
   "metadata": {},
   "outputs": [],
   "source": []
  }
 ],
 "metadata": {
  "kernelspec": {
   "display_name": "Python 3 (ipykernel)",
   "language": "python",
   "name": "python3"
  },
  "language_info": {
   "codemirror_mode": {
    "name": "ipython",
    "version": 3
   },
   "file_extension": ".py",
   "mimetype": "text/x-python",
   "name": "python",
   "nbconvert_exporter": "python",
   "pygments_lexer": "ipython3",
   "version": "3.7.12"
  }
 },
 "nbformat": 4,
 "nbformat_minor": 5
}
